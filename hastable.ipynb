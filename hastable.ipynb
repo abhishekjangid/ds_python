{
 "cells": [
  {
   "cell_type": "markdown",
   "metadata": {},
   "source": [
    "# HashTable\n"
   ]
  },
  {
   "cell_type": "code",
   "execution_count": 7,
   "metadata": {},
   "outputs": [
    {
     "name": "stdout",
     "output_type": "stream",
     "text": [
      "0  :  None\n",
      "1  :  None\n",
      "2  :  None\n",
      "3  :  [['Hari', 'Krishna']]\n",
      "4  :  None\n",
      "5  :  None\n",
      "6  :  [['Hare', 'Ram']]\n",
      "-----------------------\n",
      "['Hari', 'Hare']\n",
      "Ram\n"
     ]
    }
   ],
   "source": [
    "class HashTable:\n",
    "    def __init__(self, size = 7):\n",
    "        self.data_map = [None] * size\n",
    "\n",
    "    def __hash(self, key):\n",
    "        my_hash = 0\n",
    "        for letter in key:\n",
    "            my_hash = ( my_hash + ord(letter)) % len(self.data_map)\n",
    "        return my_hash\n",
    "    \n",
    "    def set_item(self, key, value):\n",
    "        index = self.__hash(key)\n",
    "        if self.data_map[index] is None:\n",
    "            self.data_map[index] = []\n",
    "        self.data_map[index].append([key, value])\n",
    "\n",
    "    def get_item(self, key):\n",
    "        index = self.__hash(key)\n",
    "        if self.data_map[index] is not None:\n",
    "            for i in range(len(self.data_map[index])):\n",
    "                if self.data_map[index][i][0] == key:\n",
    "                    return self.data_map[index][i][1]\n",
    "        return None\n",
    "            \n",
    "    def all_keys(self):\n",
    "        all_keys = []\n",
    "        for i in range(len(self.data_map)):\n",
    "            if self.data_map[i] is not None:\n",
    "                for j in range(len(self.data_map[i])):\n",
    "                    all_keys.append(self.data_map[i][j][0])\n",
    "        return all_keys;\n",
    "\n",
    "\n",
    "    def print_table(self):\n",
    "        for i, val in enumerate(self.data_map):\n",
    "            print(i, \" : \", val)\n",
    "        print(\"-----------------------\")\n",
    "\n",
    "my_hashtable = HashTable()\n",
    "my_hashtable.set_item(\"Hari\", \"Krishna\")\n",
    "my_hashtable.set_item(\"Hare\", \"Ram\")\n",
    "my_hashtable.print_table()\n",
    "print(my_hashtable.all_keys())\n",
    "print(my_hashtable.get_item(\"Hare\"))\n"
   ]
  }
 ],
 "metadata": {
  "kernelspec": {
   "display_name": "source_code",
   "language": "python",
   "name": "python3"
  },
  "language_info": {
   "codemirror_mode": {
    "name": "ipython",
    "version": 3
   },
   "file_extension": ".py",
   "mimetype": "text/x-python",
   "name": "python",
   "nbconvert_exporter": "python",
   "pygments_lexer": "ipython3",
   "version": "3.12.8"
  }
 },
 "nbformat": 4,
 "nbformat_minor": 2
}
