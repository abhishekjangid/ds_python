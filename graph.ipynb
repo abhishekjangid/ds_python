{
 "cells": [
  {
   "cell_type": "markdown",
   "metadata": {},
   "source": [
    "# Graph\n",
    "\n",
    "### Adjacency Matrix\n",
    "**Space Complexity**: O(|v|^2)\n",
    "\n",
    "**Time Complexity**:\n",
    "- **Adding new element** : O(|v|^2)\n",
    "- **Removing edge** : O(|1|)\n",
    "- **Removing vertices** : O(|v|^2)\n",
    "\n",
    "### Adjacency List\n",
    "**Space Complexity**: O(|v| + |E|)\n",
    "\n",
    "**Time Complexity**:\n",
    "- **Adding new element** : O(1)\n",
    "- **Removing edge** : O(|E|)\n",
    "- **Removing vertices** : O(|v| + |E|)\n",
    "\n"
   ]
  },
  {
   "cell_type": "code",
   "execution_count": 10,
   "metadata": {},
   "outputs": [
    {
     "name": "stdout",
     "output_type": "stream",
     "text": [
      "A  :  ['B']\n",
      "B  :  ['A']\n",
      "A  :  []\n",
      "B  :  []\n",
      "-----\n",
      "B  :  []\n"
     ]
    }
   ],
   "source": [
    "class Graph:\n",
    "    def __init__(self):\n",
    "        self.adj_list = {}\n",
    "\n",
    "    def print_graph(self):\n",
    "        for key in self.adj_list:\n",
    "            print(key, \" : \", self.adj_list[key])\n",
    "\n",
    "    def add_vertex(self, vertex):\n",
    "        if vertex not in self.adj_list.keys():\n",
    "            self.adj_list[vertex] = []\n",
    "            return True\n",
    "        return False\n",
    "\n",
    "    def add_edge(self, v1, v2):\n",
    "        if v1 in self.adj_list.keys() and v2 in self.adj_list.keys():\n",
    "            self.adj_list[v1].append(v2)\n",
    "            self.adj_list[v2].append(v1)\n",
    "            return True\n",
    "        return False\n",
    "    \n",
    "    def remove_edge(self, v1, v2):\n",
    "        if v1 in self.adj_list.keys() and v2 in self.adj_list.keys():\n",
    "            if v2 in self.adj_list[v1] and v1 in self.adj_list[v2]:\n",
    "                self.adj_list[v1].remove(v2)\n",
    "                self.adj_list[v2].remove(v1)\n",
    "            return True\n",
    "        return False\n",
    "\n",
    "    def remove_vertex(self, v1):\n",
    "        if v1 in self.adj_list.keys():\n",
    "            for v2 in self.adj_list[v1]:\n",
    "                self.remove_edge(v1, v2)\n",
    "            self.adj_list.pop(v1)\n",
    "            return True\n",
    "        return False\n",
    "\n",
    "my_graph = Graph()\n",
    "my_graph.add_vertex('A')\n",
    "my_graph.add_vertex('B')\n",
    "my_graph.add_edge('A', 'B')\n",
    "my_graph.print_graph()\n",
    "my_graph.remove_edge('A', 'B')\n",
    "my_graph.print_graph()\n",
    "my_graph.remove_vertex('A')\n",
    "print('-----')\n",
    "my_graph.print_graph()\n",
    "\n"
   ]
  }
 ],
 "metadata": {
  "kernelspec": {
   "display_name": "source_code",
   "language": "python",
   "name": "python3"
  },
  "language_info": {
   "codemirror_mode": {
    "name": "ipython",
    "version": 3
   },
   "file_extension": ".py",
   "mimetype": "text/x-python",
   "name": "python",
   "nbconvert_exporter": "python",
   "pygments_lexer": "ipython3",
   "version": "3.12.8"
  }
 },
 "nbformat": 4,
 "nbformat_minor": 2
}
