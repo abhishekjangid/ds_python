{
 "cells": [
  {
   "cell_type": "markdown",
   "metadata": {},
   "source": [
    "### Dynamic programming"
   ]
  },
  {
   "cell_type": "markdown",
   "metadata": {},
   "source": [
    "### Fabonacci\n",
    "\n",
    "### Time Complexity with recursive approach:\n",
    "\n",
    "O(2<sup>n</sup>)"
   ]
  },
  {
   "cell_type": "code",
   "execution_count": 10,
   "metadata": {},
   "outputs": [
    {
     "name": "stdout",
     "output_type": "stream",
     "text": [
      "26863810024485359386146727202142923967616609318986952340123175997617981700247881689338369654483356564191827856161443356312976673642210350324634850410377680367334151172899169723197082763985615764450078474174626\n",
      "Counter 1997\n"
     ]
    }
   ],
   "source": [
    "counter = 0\n",
    "\n",
    "def fibonacci(n):\n",
    "    global counter\n",
    "    counter += 1\n",
    "    if n <= 1:\n",
    "        return n\n",
    "    return fibonacci(n-1) + fibonacci(n-2)\n",
    "\n",
    "n = 39\n",
    "\n",
    "print(f'Fibonacci of {n} = {fibonacci(n)}')\n",
    "print(f'Counter {counter}')\n"
   ]
  },
  {
   "cell_type": "markdown",
   "metadata": {},
   "source": [
    "### Memoization top down\n",
    "\n",
    "### Time Complexity with Memoization:\n",
    "\n",
    "O(n)\n",
    "\n",
    "**Memoization** is remembering results so that you don’t have to do the same\n",
    "\n",
    "Number of calls with memoization = 2n - 1"
   ]
  },
  {
   "cell_type": "code",
   "execution_count": 11,
   "metadata": {},
   "outputs": [
    {
     "name": "stdout",
     "output_type": "stream",
     "text": [
      "26863810024485359386146727202142923967616609318986952340123175997617981700247881689338369654483356564191827856161443356312976673642210350324634850410377680367334151172899169723197082763985615764450078474174626\n",
      "Counter 1997\n"
     ]
    }
   ],
   "source": [
    "memo = [None] * 1000\n",
    "\n",
    "counter = 0\n",
    "\n",
    "def fibonacci_memo(n):\n",
    "    global counter\n",
    "    counter += 1\n",
    "\n",
    "    if memo[n] is not None:\n",
    "        return memo[n]\n",
    "\n",
    "    if n <= 1:\n",
    "        return n\n",
    "    \n",
    "    memo[n] = fibonacci_memo(n-1) + fibonacci_memo(n-2)\n",
    "    return memo[n]\n",
    "\n",
    "print(fibonacci_memo(999))\n",
    "print(f'Counter {counter}')"
   ]
  },
  {
   "cell_type": "markdown",
   "metadata": {},
   "source": [
    "### Memoization bottom up\n",
    "\n",
    "### Time Complexity with Memoization:\n",
    "\n",
    "O(n)"
   ]
  },
  {
   "cell_type": "code",
   "execution_count": 14,
   "metadata": {},
   "outputs": [
    {
     "name": "stdout",
     "output_type": "stream",
     "text": [
      "26863810024485359386146727202142923967616609318986952340123175997617981700247881689338369654483356564191827856161443356312976673642210350324634850410377680367334151172899169723197082763985615764450078474174626\n"
     ]
    }
   ],
   "source": [
    "\n",
    "\n",
    "def fibonacci_memo_bottomup(n):\n",
    "    fib_list = [0, 1]\n",
    "    for index in range(2, n+1):\n",
    "        fib_next = fib_list[ index - 1 ] + fib_list[ index - 2 ]\n",
    "        fib_list.append(fib_next)\n",
    "    return fib_list[n]\n",
    "\n",
    "print(fibonacci_memo_bottomup(999))\n"
   ]
  }
 ],
 "metadata": {
  "kernelspec": {
   "display_name": "source_code",
   "language": "python",
   "name": "python3"
  },
  "language_info": {
   "codemirror_mode": {
    "name": "ipython",
    "version": 3
   },
   "file_extension": ".py",
   "mimetype": "text/x-python",
   "name": "python",
   "nbconvert_exporter": "python",
   "pygments_lexer": "ipython3",
   "version": "3.12.8"
  }
 },
 "nbformat": 4,
 "nbformat_minor": 2
}
