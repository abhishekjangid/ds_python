{
 "cells": [
  {
   "cell_type": "markdown",
   "metadata": {},
   "source": [
    "H1 # Stack"
   ]
  },
  {
   "cell_type": "code",
   "execution_count": null,
   "metadata": {},
   "outputs": [
    {
     "name": "stdout",
     "output_type": "stream",
     "text": [
      "0\n",
      "---------\n"
     ]
    }
   ],
   "source": [
    "class Node:\n",
    "    def __init__(self,value):\n",
    "        self.value = value\n",
    "        self.next = None\n",
    "\n",
    "class Stack:\n",
    "    def __init__(self, value):\n",
    "        new_node = Node(value)\n",
    "        self.top = new_node\n",
    "        self.height = 1\n",
    "\n",
    "    def print_stack(self):\n",
    "        print('---------')\n",
    "        temp = self.top\n",
    "        while temp is not None:\n",
    "            print(temp.value)\n",
    "            temp = temp.next\n",
    "\n",
    "    def push(self, value):\n",
    "        new_node = Node(value)\n",
    "        temp = self.top\n",
    "        if self.height == 0:\n",
    "            self.top = new_node\n",
    "        else:\n",
    "            self.top = new_node\n",
    "            new_node.next = temp\n",
    "        self.height += 1\n",
    "\n",
    "    def pop(self):\n",
    "        if self.height == 0:\n",
    "            return None\n",
    "        else:\n",
    "            temp = self.top\n",
    "            self.top = temp.next\n",
    "            temp.next = None\n",
    "            self.height -= 1\n",
    "            return temp\n",
    "\n",
    "my_stack = Stack(4)\n",
    "my_stack.push(5)\n",
    "print(my_stack.pop())\n",
    "print(my_stack.pop())\n",
    "print(my_stack.height)\n",
    "my_stack.print_stack()"
   ]
  },
  {
   "cell_type": "markdown",
   "metadata": {},
   "source": [
    "H1 # Queue"
   ]
  },
  {
   "cell_type": "code",
   "execution_count": 24,
   "metadata": {},
   "outputs": [
    {
     "name": "stdout",
     "output_type": "stream",
     "text": [
      "4\n",
      "5\n",
      "6\n",
      "None\n",
      "--------\n"
     ]
    }
   ],
   "source": [
    "class Node:\n",
    "    def __init__(self,value):\n",
    "        self.value = value\n",
    "        self.next = None\n",
    "\n",
    "class Queue:\n",
    "    def __init__(self, value):\n",
    "        new_node = Node(value)\n",
    "        self.first = new_node\n",
    "        self.last = new_node\n",
    "        self.length = 1\n",
    "    \n",
    "    def print_queue(self):\n",
    "        temp = self.first\n",
    "        print('--------')\n",
    "        while temp is not None:\n",
    "            print(temp.value)\n",
    "            temp = temp.next\n",
    "\n",
    "    def enqueue(self, value):\n",
    "        new_node = Node(value)\n",
    "        if self.length == 0:\n",
    "            self.first = new_node\n",
    "            self.last = new_node\n",
    "        else:\n",
    "            self.last.next = new_node\n",
    "            self.last = new_node\n",
    "        self.length += 1\n",
    "    \n",
    "    def dequeue(self):\n",
    "        temp = self.first\n",
    "        if self.length == 0:\n",
    "            return None\n",
    "        elif self.length == 1:\n",
    "            self.first = None\n",
    "            self.last = None\n",
    "        else:\n",
    "            temp = self.first\n",
    "            self.first = temp.next\n",
    "            temp.next = None\n",
    "        self.length -= 1\n",
    "        return temp\n",
    "        \n",
    "\n",
    "    \n",
    "my_queue = Queue(4)\n",
    "my_queue.enqueue(5)\n",
    "my_queue.enqueue(6)\n",
    "print(my_queue.dequeue().value)\n",
    "print(my_queue.dequeue().value)\n",
    "print(my_queue.dequeue().value)\n",
    "print(my_queue.dequeue())\n",
    "my_queue.print_queue()"
   ]
  }
 ],
 "metadata": {
  "kernelspec": {
   "display_name": "Python 3",
   "language": "python",
   "name": "python3"
  },
  "language_info": {
   "codemirror_mode": {
    "name": "ipython",
    "version": 3
   },
   "file_extension": ".py",
   "mimetype": "text/x-python",
   "name": "python",
   "nbconvert_exporter": "python",
   "pygments_lexer": "ipython3",
   "version": "3.12.8"
  }
 },
 "nbformat": 4,
 "nbformat_minor": 2
}
